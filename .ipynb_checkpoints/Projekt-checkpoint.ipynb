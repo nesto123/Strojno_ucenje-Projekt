{
 "cells": [
  {
   "cell_type": "code",
   "execution_count": 1,
   "metadata": {},
   "outputs": [],
   "source": [
    "%matplotlib inline\n",
    "\n",
    "import numpy as np\n",
    "import pandas as pd\n",
    "import matplotlib.pyplot as plt\n",
    "import seaborn as sns\n",
    "\n",
    "import warnings\n",
    "warnings.filterwarnings('ignore')\n",
    "pd.options.display.max_columns = None\n",
    "\n",
    "from sklearn.ensemble import RandomForestClassifier\n",
    "from sklearn.model_selection import StratifiedKFold\n",
    "from sklearn.feature_selection import RFECV\n",
    "from sklearn.model_selection import train_test_split"
   ]
  },
  {
   "cell_type": "code",
   "execution_count": 2,
   "metadata": {},
   "outputs": [
    {
     "data": {
      "text/html": [
       "<div>\n",
       "<style scoped>\n",
       "    .dataframe tbody tr th:only-of-type {\n",
       "        vertical-align: middle;\n",
       "    }\n",
       "\n",
       "    .dataframe tbody tr th {\n",
       "        vertical-align: top;\n",
       "    }\n",
       "\n",
       "    .dataframe thead th {\n",
       "        text-align: right;\n",
       "    }\n",
       "</style>\n",
       "<table border=\"1\" class=\"dataframe\">\n",
       "  <thead>\n",
       "    <tr style=\"text-align: right;\">\n",
       "      <th></th>\n",
       "      <th>Unnamed: 0</th>\n",
       "      <th>id</th>\n",
       "      <th>Gender</th>\n",
       "      <th>Customer Type</th>\n",
       "      <th>Age</th>\n",
       "      <th>Type of Travel</th>\n",
       "      <th>Class</th>\n",
       "      <th>Flight Distance</th>\n",
       "      <th>Inflight wifi service</th>\n",
       "      <th>Departure/Arrival time convenient</th>\n",
       "      <th>Ease of Online booking</th>\n",
       "      <th>Gate location</th>\n",
       "      <th>Food and drink</th>\n",
       "      <th>Online boarding</th>\n",
       "      <th>Seat comfort</th>\n",
       "      <th>Inflight entertainment</th>\n",
       "      <th>On-board service</th>\n",
       "      <th>Leg room service</th>\n",
       "      <th>Baggage handling</th>\n",
       "      <th>Checkin service</th>\n",
       "      <th>Inflight service</th>\n",
       "      <th>Cleanliness</th>\n",
       "      <th>Departure Delay in Minutes</th>\n",
       "      <th>Arrival Delay in Minutes</th>\n",
       "      <th>satisfaction</th>\n",
       "    </tr>\n",
       "  </thead>\n",
       "  <tbody>\n",
       "    <tr>\n",
       "      <th>0</th>\n",
       "      <td>0</td>\n",
       "      <td>70172</td>\n",
       "      <td>Male</td>\n",
       "      <td>Loyal Customer</td>\n",
       "      <td>13</td>\n",
       "      <td>Personal Travel</td>\n",
       "      <td>Eco Plus</td>\n",
       "      <td>460</td>\n",
       "      <td>3</td>\n",
       "      <td>4</td>\n",
       "      <td>3</td>\n",
       "      <td>1</td>\n",
       "      <td>5</td>\n",
       "      <td>3</td>\n",
       "      <td>5</td>\n",
       "      <td>5</td>\n",
       "      <td>4</td>\n",
       "      <td>3</td>\n",
       "      <td>4</td>\n",
       "      <td>4</td>\n",
       "      <td>5</td>\n",
       "      <td>5</td>\n",
       "      <td>25</td>\n",
       "      <td>18.0</td>\n",
       "      <td>neutral or dissatisfied</td>\n",
       "    </tr>\n",
       "    <tr>\n",
       "      <th>1</th>\n",
       "      <td>1</td>\n",
       "      <td>5047</td>\n",
       "      <td>Male</td>\n",
       "      <td>disloyal Customer</td>\n",
       "      <td>25</td>\n",
       "      <td>Business travel</td>\n",
       "      <td>Business</td>\n",
       "      <td>235</td>\n",
       "      <td>3</td>\n",
       "      <td>2</td>\n",
       "      <td>3</td>\n",
       "      <td>3</td>\n",
       "      <td>1</td>\n",
       "      <td>3</td>\n",
       "      <td>1</td>\n",
       "      <td>1</td>\n",
       "      <td>1</td>\n",
       "      <td>5</td>\n",
       "      <td>3</td>\n",
       "      <td>1</td>\n",
       "      <td>4</td>\n",
       "      <td>1</td>\n",
       "      <td>1</td>\n",
       "      <td>6.0</td>\n",
       "      <td>neutral or dissatisfied</td>\n",
       "    </tr>\n",
       "    <tr>\n",
       "      <th>2</th>\n",
       "      <td>2</td>\n",
       "      <td>110028</td>\n",
       "      <td>Female</td>\n",
       "      <td>Loyal Customer</td>\n",
       "      <td>26</td>\n",
       "      <td>Business travel</td>\n",
       "      <td>Business</td>\n",
       "      <td>1142</td>\n",
       "      <td>2</td>\n",
       "      <td>2</td>\n",
       "      <td>2</td>\n",
       "      <td>2</td>\n",
       "      <td>5</td>\n",
       "      <td>5</td>\n",
       "      <td>5</td>\n",
       "      <td>5</td>\n",
       "      <td>4</td>\n",
       "      <td>3</td>\n",
       "      <td>4</td>\n",
       "      <td>4</td>\n",
       "      <td>4</td>\n",
       "      <td>5</td>\n",
       "      <td>0</td>\n",
       "      <td>0.0</td>\n",
       "      <td>satisfied</td>\n",
       "    </tr>\n",
       "    <tr>\n",
       "      <th>3</th>\n",
       "      <td>3</td>\n",
       "      <td>24026</td>\n",
       "      <td>Female</td>\n",
       "      <td>Loyal Customer</td>\n",
       "      <td>25</td>\n",
       "      <td>Business travel</td>\n",
       "      <td>Business</td>\n",
       "      <td>562</td>\n",
       "      <td>2</td>\n",
       "      <td>5</td>\n",
       "      <td>5</td>\n",
       "      <td>5</td>\n",
       "      <td>2</td>\n",
       "      <td>2</td>\n",
       "      <td>2</td>\n",
       "      <td>2</td>\n",
       "      <td>2</td>\n",
       "      <td>5</td>\n",
       "      <td>3</td>\n",
       "      <td>1</td>\n",
       "      <td>4</td>\n",
       "      <td>2</td>\n",
       "      <td>11</td>\n",
       "      <td>9.0</td>\n",
       "      <td>neutral or dissatisfied</td>\n",
       "    </tr>\n",
       "    <tr>\n",
       "      <th>4</th>\n",
       "      <td>4</td>\n",
       "      <td>119299</td>\n",
       "      <td>Male</td>\n",
       "      <td>Loyal Customer</td>\n",
       "      <td>61</td>\n",
       "      <td>Business travel</td>\n",
       "      <td>Business</td>\n",
       "      <td>214</td>\n",
       "      <td>3</td>\n",
       "      <td>3</td>\n",
       "      <td>3</td>\n",
       "      <td>3</td>\n",
       "      <td>4</td>\n",
       "      <td>5</td>\n",
       "      <td>5</td>\n",
       "      <td>3</td>\n",
       "      <td>3</td>\n",
       "      <td>4</td>\n",
       "      <td>4</td>\n",
       "      <td>3</td>\n",
       "      <td>3</td>\n",
       "      <td>3</td>\n",
       "      <td>0</td>\n",
       "      <td>0.0</td>\n",
       "      <td>satisfied</td>\n",
       "    </tr>\n",
       "  </tbody>\n",
       "</table>\n",
       "</div>"
      ],
      "text/plain": [
       "   Unnamed: 0      id  Gender      Customer Type  Age   Type of Travel  \\\n",
       "0           0   70172    Male     Loyal Customer   13  Personal Travel   \n",
       "1           1    5047    Male  disloyal Customer   25  Business travel   \n",
       "2           2  110028  Female     Loyal Customer   26  Business travel   \n",
       "3           3   24026  Female     Loyal Customer   25  Business travel   \n",
       "4           4  119299    Male     Loyal Customer   61  Business travel   \n",
       "\n",
       "      Class  Flight Distance  Inflight wifi service  \\\n",
       "0  Eco Plus              460                      3   \n",
       "1  Business              235                      3   \n",
       "2  Business             1142                      2   \n",
       "3  Business              562                      2   \n",
       "4  Business              214                      3   \n",
       "\n",
       "   Departure/Arrival time convenient  Ease of Online booking  Gate location  \\\n",
       "0                                  4                       3              1   \n",
       "1                                  2                       3              3   \n",
       "2                                  2                       2              2   \n",
       "3                                  5                       5              5   \n",
       "4                                  3                       3              3   \n",
       "\n",
       "   Food and drink  Online boarding  Seat comfort  Inflight entertainment  \\\n",
       "0               5                3             5                       5   \n",
       "1               1                3             1                       1   \n",
       "2               5                5             5                       5   \n",
       "3               2                2             2                       2   \n",
       "4               4                5             5                       3   \n",
       "\n",
       "   On-board service  Leg room service  Baggage handling  Checkin service  \\\n",
       "0                 4                 3                 4                4   \n",
       "1                 1                 5                 3                1   \n",
       "2                 4                 3                 4                4   \n",
       "3                 2                 5                 3                1   \n",
       "4                 3                 4                 4                3   \n",
       "\n",
       "   Inflight service  Cleanliness  Departure Delay in Minutes  \\\n",
       "0                 5            5                          25   \n",
       "1                 4            1                           1   \n",
       "2                 4            5                           0   \n",
       "3                 4            2                          11   \n",
       "4                 3            3                           0   \n",
       "\n",
       "   Arrival Delay in Minutes             satisfaction  \n",
       "0                      18.0  neutral or dissatisfied  \n",
       "1                       6.0  neutral or dissatisfied  \n",
       "2                       0.0                satisfied  \n",
       "3                       9.0  neutral or dissatisfied  \n",
       "4                       0.0                satisfied  "
      ]
     },
     "execution_count": 2,
     "metadata": {},
     "output_type": "execute_result"
    }
   ],
   "source": [
    "train = pd.read_csv(\"train.csv\")\n",
    "test = pd.read_csv(\"test.csv\")\n",
    "df=pd.concat([train, test], axis=0)\n",
    "df.head()"
   ]
  },
  {
   "cell_type": "code",
   "execution_count": 3,
   "metadata": {},
   "outputs": [
    {
     "name": "stdout",
     "output_type": "stream",
     "text": [
      "<class 'pandas.core.frame.DataFrame'>\n",
      "Int64Index: 129880 entries, 0 to 25975\n",
      "Data columns (total 25 columns):\n",
      " #   Column                             Non-Null Count   Dtype  \n",
      "---  ------                             --------------   -----  \n",
      " 0   Unnamed: 0                         129880 non-null  int64  \n",
      " 1   id                                 129880 non-null  int64  \n",
      " 2   Gender                             129880 non-null  object \n",
      " 3   Customer Type                      129880 non-null  object \n",
      " 4   Age                                129880 non-null  int64  \n",
      " 5   Type of Travel                     129880 non-null  object \n",
      " 6   Class                              129880 non-null  object \n",
      " 7   Flight Distance                    129880 non-null  int64  \n",
      " 8   Inflight wifi service              129880 non-null  int64  \n",
      " 9   Departure/Arrival time convenient  129880 non-null  int64  \n",
      " 10  Ease of Online booking             129880 non-null  int64  \n",
      " 11  Gate location                      129880 non-null  int64  \n",
      " 12  Food and drink                     129880 non-null  int64  \n",
      " 13  Online boarding                    129880 non-null  int64  \n",
      " 14  Seat comfort                       129880 non-null  int64  \n",
      " 15  Inflight entertainment             129880 non-null  int64  \n",
      " 16  On-board service                   129880 non-null  int64  \n",
      " 17  Leg room service                   129880 non-null  int64  \n",
      " 18  Baggage handling                   129880 non-null  int64  \n",
      " 19  Checkin service                    129880 non-null  int64  \n",
      " 20  Inflight service                   129880 non-null  int64  \n",
      " 21  Cleanliness                        129880 non-null  int64  \n",
      " 22  Departure Delay in Minutes         129880 non-null  int64  \n",
      " 23  Arrival Delay in Minutes           129487 non-null  float64\n",
      " 24  satisfaction                       129880 non-null  object \n",
      "dtypes: float64(1), int64(19), object(5)\n",
      "memory usage: 25.8+ MB\n"
     ]
    }
   ],
   "source": [
    "df.info()"
   ]
  },
  {
   "cell_type": "code",
   "execution_count": 4,
   "metadata": {},
   "outputs": [
    {
     "data": {
      "text/plain": [
       "<matplotlib.axes._subplots.AxesSubplot at 0x1de438b9c48>"
      ]
     },
     "execution_count": 4,
     "metadata": {},
     "output_type": "execute_result"
    },
    {
     "data": {
      "image/png": "[encoded data removed]",
      "text/plain": [
       "<Figure size 432x288 with 1 Axes>"
      ]
     },
     "metadata": {
      "needs_background": "light"
     },
     "output_type": "display_data"
    }
   ],
   "source": [
    "c_palette = ['tab:blue', 'tab:orange']\n",
    "sns.countplot(data=df, y = 'satisfaction', palette=c_palette)"
   ]
  },
  {
   "cell_type": "markdown",
   "metadata": {},
   "source": [
    "Pogledajmo koliko jedinstvenih vrijednosti imaju svaki od naših kategorijalnih stupaca."
   ]
  },
  {
   "cell_type": "code",
   "execution_count": 5,
   "metadata": {},
   "outputs": [
    {
     "name": "stdout",
     "output_type": "stream",
     "text": [
      "Type of travel:  ['Personal Travel' 'Business travel']\n",
      "Class:  ['Eco Plus' 'Business' 'Eco']\n",
      "Gender:  ['Male' 'Female']\n",
      "Customer Type:  ['Loyal Customer' 'disloyal Customer']\n",
      "Satisfaction:  ['neutral or dissatisfied' 'satisfied']\n"
     ]
    }
   ],
   "source": [
    "print (\"Type of travel: \", df['Type of Travel'].unique())\n",
    "print (\"Class: \", df['Class'].unique())\n",
    "print (\"Gender: \", df['Gender'].unique())\n",
    "print (\"Customer Type: \", df['Customer Type'].unique())\n",
    "print (\"Satisfaction: \", df['satisfaction'].unique())"
   ]
  },
  {
   "cell_type": "code",
   "execution_count": 6,
   "metadata": {},
   "outputs": [
    {
     "data": {
      "image/png": "[encoded data removed]",
      "text/plain": [
       "<Figure size 720x1080 with 4 Axes>"
      ]
     },
     "metadata": {
      "needs_background": "light"
     },
     "output_type": "display_data"
    }
   ],
   "source": [
    "fig, axes = plt.subplots(nrows=4, figsize=(10,15))\n",
    "\n",
    "sns.countplot(data=df, y = 'Type of Travel', hue='satisfaction', palette=c_palette, ax=axes[0])\n",
    "sns.countplot(data=df, y = 'Gender', hue='satisfaction', palette=c_palette, ax=axes[1])\n",
    "sns.countplot(data=df, y = 'Customer Type', hue='satisfaction', palette=c_palette, ax=axes[2])\n",
    "sns.countplot(data=df, y = 'Class', hue='satisfaction', palette=c_palette, ax=axes[3])\n",
    "\n",
    "fig.tight_layout()"
   ]
  },
  {
   "cell_type": "markdown",
   "metadata": {},
   "source": [
    "Vidimo da nam ne treba stupac <code>Unnamed</code> koji je samo preslika indexa i stupac <code>id</code> koji je jedinstveni broj za svakog putnika."
   ]
  },
  {
   "cell_type": "code",
   "execution_count": 7,
   "metadata": {},
   "outputs": [],
   "source": [
    "df.drop(['Unnamed: 0', 'id'], axis=1, inplace=True)"
   ]
  },
  {
   "cell_type": "markdown",
   "metadata": {},
   "source": [
    "Provjerimo imamo li vrijednosti koje nedostaju i koliki je njihov postotak."
   ]
  },
  {
   "cell_type": "code",
   "execution_count": 8,
   "metadata": {},
   "outputs": [
    {
     "data": {
      "text/plain": [
       "Gender                               0.000000\n",
       "Customer Type                        0.000000\n",
       "Age                                  0.000000\n",
       "Type of Travel                       0.000000\n",
       "Class                                0.000000\n",
       "Flight Distance                      0.000000\n",
       "Inflight wifi service                0.000000\n",
       "Departure/Arrival time convenient    0.000000\n",
       "Ease of Online booking               0.000000\n",
       "Gate location                        0.000000\n",
       "Food and drink                       0.000000\n",
       "Online boarding                      0.000000\n",
       "Seat comfort                         0.000000\n",
       "Inflight entertainment               0.000000\n",
       "On-board service                     0.000000\n",
       "Leg room service                     0.000000\n",
       "Baggage handling                     0.000000\n",
       "Checkin service                      0.000000\n",
       "Inflight service                     0.000000\n",
       "Cleanliness                          0.000000\n",
       "Departure Delay in Minutes           0.000000\n",
       "Arrival Delay in Minutes             0.003026\n",
       "satisfaction                         0.000000\n",
       "dtype: float64"
      ]
     },
     "execution_count": 8,
     "metadata": {},
     "output_type": "execute_result"
    }
   ],
   "source": [
    "df.isnull().sum()/len(df)"
   ]
  },
  {
   "cell_type": "markdown",
   "metadata": {},
   "source": [
    "Dakle, samo u jednom stupcu imamo missing values i to jako mali postotak pa redove u kojima se nalaze možemo bez problema izbaciti."
   ]
  },
  {
   "cell_type": "code",
   "execution_count": 9,
   "metadata": {},
   "outputs": [],
   "source": [
    "df.dropna(axis=0,inplace=True)"
   ]
  },
  {
   "cell_type": "markdown",
   "metadata": {},
   "source": [
    "Primjenimo sada FAMD (Factor analysis of mixed data) metodu na naše podatke da bi izračunali objašnjenu varijancu. FAMD je kombinacija PCA i MCA za podatke koji u sebi imaju i numeričke i kategorijalne varijable."
   ]
  },
  {
   "cell_type": "code",
   "execution_count": 10,
   "metadata": {},
   "outputs": [
    {
     "name": "stdout",
     "output_type": "stream",
     "text": [
      "[0.5628361906990982,\n",
      " 0.1711811091101839,\n",
      " 0.12522338698936958,\n",
      " 0.08745525424548073,\n",
      " 0.029950860452348328,\n",
      " 0.023349809448868886,\n",
      " 6.867463013261955e-07,\n",
      " 4.726353794506789e-07,\n",
      " 4.19931062324015e-07,\n",
      " 3.92271465149231e-07,\n",
      " 2.100256226247325e-07,\n",
      " 1.781143933133588e-07,\n",
      " 1.7602942033952438e-07,\n",
      " 1.48816318320811e-07,\n",
      " 1.3685736616364303e-07,\n",
      " 9.770966296343755e-08,\n",
      " 9.414764344046646e-08,\n",
      " 8.762432994611294e-08,\n",
      " 7.325768683228193e-08,\n",
      " 6.369193703417746e-08,\n",
      " 5.857295846549442e-08,\n",
      " 4.9590111394320983e-08]\n"
     ]
    }
   ],
   "source": [
    "import pandas as pd\n",
    "import prince\n",
    "import pprint\n",
    "\n",
    "## Instantiate FAMD object\n",
    "famd = prince.FAMD(\n",
    "     n_components=22,  \n",
    "     n_iter=10,\n",
    "     copy=True,\n",
    "     check_input=True,\n",
    "     engine='auto',       ## Can be \"auto\", 'sklearn', 'fbpca'\n",
    "     random_state=42)\n",
    "\n",
    "## Fit FAMD object to data \n",
    "famd = famd.fit(df.drop('satisfaction', axis=1)) \n",
    "\n",
    "df1 = df.drop('satisfaction', axis=1)\n",
    "## Inspect principal dimensions\n",
    "pp = pprint.PrettyPrinter()\n",
    "pp.pprint(famd.explained_inertia_) "
   ]
  },
  {
   "cell_type": "markdown",
   "metadata": {},
   "source": [
    "Prve četiri značajke imaju velik udio u objašnjenoj varijanci."
   ]
  },
  {
   "cell_type": "markdown",
   "metadata": {},
   "source": [
    "Pretvorimo sada kategorijalne varijable u intove."
   ]
  },
  {
   "cell_type": "code",
   "execution_count": 11,
   "metadata": {},
   "outputs": [
    {
     "data": {
      "text/html": [
       "<div>\n",
       "<style scoped>\n",
       "    .dataframe tbody tr th:only-of-type {\n",
       "        vertical-align: middle;\n",
       "    }\n",
       "\n",
       "    .dataframe tbody tr th {\n",
       "        vertical-align: top;\n",
       "    }\n",
       "\n",
       "    .dataframe thead th {\n",
       "        text-align: right;\n",
       "    }\n",
       "</style>\n",
       "<table border=\"1\" class=\"dataframe\">\n",
       "  <thead>\n",
       "    <tr style=\"text-align: right;\">\n",
       "      <th></th>\n",
       "      <th>Gender</th>\n",
       "      <th>Customer Type</th>\n",
       "      <th>Age</th>\n",
       "      <th>Type of Travel</th>\n",
       "      <th>Class</th>\n",
       "      <th>Flight Distance</th>\n",
       "      <th>Inflight wifi service</th>\n",
       "      <th>Departure/Arrival time convenient</th>\n",
       "      <th>Ease of Online booking</th>\n",
       "      <th>Gate location</th>\n",
       "      <th>Food and drink</th>\n",
       "      <th>Online boarding</th>\n",
       "      <th>Seat comfort</th>\n",
       "      <th>Inflight entertainment</th>\n",
       "      <th>On-board service</th>\n",
       "      <th>Leg room service</th>\n",
       "      <th>Baggage handling</th>\n",
       "      <th>Checkin service</th>\n",
       "      <th>Inflight service</th>\n",
       "      <th>Cleanliness</th>\n",
       "      <th>Departure Delay in Minutes</th>\n",
       "      <th>Arrival Delay in Minutes</th>\n",
       "      <th>satisfaction</th>\n",
       "    </tr>\n",
       "  </thead>\n",
       "  <tbody>\n",
       "    <tr>\n",
       "      <th>0</th>\n",
       "      <td>0</td>\n",
       "      <td>0</td>\n",
       "      <td>13</td>\n",
       "      <td>0</td>\n",
       "      <td>Eco Plus</td>\n",
       "      <td>460</td>\n",
       "      <td>3</td>\n",
       "      <td>4</td>\n",
       "      <td>3</td>\n",
       "      <td>1</td>\n",
       "      <td>5</td>\n",
       "      <td>3</td>\n",
       "      <td>5</td>\n",
       "      <td>5</td>\n",
       "      <td>4</td>\n",
       "      <td>3</td>\n",
       "      <td>4</td>\n",
       "      <td>4</td>\n",
       "      <td>5</td>\n",
       "      <td>5</td>\n",
       "      <td>25</td>\n",
       "      <td>18.0</td>\n",
       "      <td>0</td>\n",
       "    </tr>\n",
       "    <tr>\n",
       "      <th>1</th>\n",
       "      <td>0</td>\n",
       "      <td>1</td>\n",
       "      <td>25</td>\n",
       "      <td>1</td>\n",
       "      <td>Business</td>\n",
       "      <td>235</td>\n",
       "      <td>3</td>\n",
       "      <td>2</td>\n",
       "      <td>3</td>\n",
       "      <td>3</td>\n",
       "      <td>1</td>\n",
       "      <td>3</td>\n",
       "      <td>1</td>\n",
       "      <td>1</td>\n",
       "      <td>1</td>\n",
       "      <td>5</td>\n",
       "      <td>3</td>\n",
       "      <td>1</td>\n",
       "      <td>4</td>\n",
       "      <td>1</td>\n",
       "      <td>1</td>\n",
       "      <td>6.0</td>\n",
       "      <td>0</td>\n",
       "    </tr>\n",
       "    <tr>\n",
       "      <th>2</th>\n",
       "      <td>1</td>\n",
       "      <td>0</td>\n",
       "      <td>26</td>\n",
       "      <td>1</td>\n",
       "      <td>Business</td>\n",
       "      <td>1142</td>\n",
       "      <td>2</td>\n",
       "      <td>2</td>\n",
       "      <td>2</td>\n",
       "      <td>2</td>\n",
       "      <td>5</td>\n",
       "      <td>5</td>\n",
       "      <td>5</td>\n",
       "      <td>5</td>\n",
       "      <td>4</td>\n",
       "      <td>3</td>\n",
       "      <td>4</td>\n",
       "      <td>4</td>\n",
       "      <td>4</td>\n",
       "      <td>5</td>\n",
       "      <td>0</td>\n",
       "      <td>0.0</td>\n",
       "      <td>1</td>\n",
       "    </tr>\n",
       "    <tr>\n",
       "      <th>3</th>\n",
       "      <td>1</td>\n",
       "      <td>0</td>\n",
       "      <td>25</td>\n",
       "      <td>1</td>\n",
       "      <td>Business</td>\n",
       "      <td>562</td>\n",
       "      <td>2</td>\n",
       "      <td>5</td>\n",
       "      <td>5</td>\n",
       "      <td>5</td>\n",
       "      <td>2</td>\n",
       "      <td>2</td>\n",
       "      <td>2</td>\n",
       "      <td>2</td>\n",
       "      <td>2</td>\n",
       "      <td>5</td>\n",
       "      <td>3</td>\n",
       "      <td>1</td>\n",
       "      <td>4</td>\n",
       "      <td>2</td>\n",
       "      <td>11</td>\n",
       "      <td>9.0</td>\n",
       "      <td>0</td>\n",
       "    </tr>\n",
       "    <tr>\n",
       "      <th>4</th>\n",
       "      <td>0</td>\n",
       "      <td>0</td>\n",
       "      <td>61</td>\n",
       "      <td>1</td>\n",
       "      <td>Business</td>\n",
       "      <td>214</td>\n",
       "      <td>3</td>\n",
       "      <td>3</td>\n",
       "      <td>3</td>\n",
       "      <td>3</td>\n",
       "      <td>4</td>\n",
       "      <td>5</td>\n",
       "      <td>5</td>\n",
       "      <td>3</td>\n",
       "      <td>3</td>\n",
       "      <td>4</td>\n",
       "      <td>4</td>\n",
       "      <td>3</td>\n",
       "      <td>3</td>\n",
       "      <td>3</td>\n",
       "      <td>0</td>\n",
       "      <td>0.0</td>\n",
       "      <td>1</td>\n",
       "    </tr>\n",
       "  </tbody>\n",
       "</table>\n",
       "</div>"
      ],
      "text/plain": [
       "   Gender  Customer Type  Age  Type of Travel     Class  Flight Distance  \\\n",
       "0       0              0   13               0  Eco Plus              460   \n",
       "1       0              1   25               1  Business              235   \n",
       "2       1              0   26               1  Business             1142   \n",
       "3       1              0   25               1  Business              562   \n",
       "4       0              0   61               1  Business              214   \n",
       "\n",
       "   Inflight wifi service  Departure/Arrival time convenient  \\\n",
       "0                      3                                  4   \n",
       "1                      3                                  2   \n",
       "2                      2                                  2   \n",
       "3                      2                                  5   \n",
       "4                      3                                  3   \n",
       "\n",
       "   Ease of Online booking  Gate location  Food and drink  Online boarding  \\\n",
       "0                       3              1               5                3   \n",
       "1                       3              3               1                3   \n",
       "2                       2              2               5                5   \n",
       "3                       5              5               2                2   \n",
       "4                       3              3               4                5   \n",
       "\n",
       "   Seat comfort  Inflight entertainment  On-board service  Leg room service  \\\n",
       "0             5                       5                 4                 3   \n",
       "1             1                       1                 1                 5   \n",
       "2             5                       5                 4                 3   \n",
       "3             2                       2                 2                 5   \n",
       "4             5                       3                 3                 4   \n",
       "\n",
       "   Baggage handling  Checkin service  Inflight service  Cleanliness  \\\n",
       "0                 4                4                 5            5   \n",
       "1                 3                1                 4            1   \n",
       "2                 4                4                 4            5   \n",
       "3                 3                1                 4            2   \n",
       "4                 4                3                 3            3   \n",
       "\n",
       "   Departure Delay in Minutes  Arrival Delay in Minutes  satisfaction  \n",
       "0                          25                      18.0             0  \n",
       "1                           1                       6.0             0  \n",
       "2                           0                       0.0             1  \n",
       "3                          11                       9.0             0  \n",
       "4                           0                       0.0             1  "
      ]
     },
     "execution_count": 11,
     "metadata": {},
     "output_type": "execute_result"
    }
   ],
   "source": [
    "gender_mapper = {'Male': 0, 'Female': 1}\n",
    "df['Gender'].replace(gender_mapper, inplace=True)\n",
    "type_mapper = {'Personal Travel': 0, 'Business travel': 1}\n",
    "df['Type of Travel'].replace(type_mapper, inplace=True)\n",
    "cust_mapper = {'Loyal Customer': 0, 'disloyal Customer': 1}\n",
    "df['Customer Type'].replace(cust_mapper, inplace=True)\n",
    "satisfaction_mapper = {'neutral or dissatisfied': 0, 'satisfied': 1}\n",
    "df['satisfaction'].replace(satisfaction_mapper, inplace=True)\n",
    "\n",
    "df.head()"
   ]
  },
  {
   "cell_type": "markdown",
   "metadata": {},
   "source": [
    "Encodali smo sve kategorijalne vrijednosti osim onih u stupcu <code>Class</code> jer tamo imamo više od dvije. Budući da ne želimo nejednake težne, ovaj ćemo stupac One Hot Encodati."
   ]
  },
  {
   "cell_type": "code",
   "execution_count": 12,
   "metadata": {},
   "outputs": [],
   "source": [
    "df['Class'] = pd.Categorical(df['Class'])\n",
    "dfDummies = pd.get_dummies(df['Class'], prefix = 'Class')\n",
    "df = pd.concat([df, dfDummies], axis=1)\n",
    "df.drop('Class', axis=1, inplace=True)"
   ]
  },
  {
   "cell_type": "markdown",
   "metadata": {},
   "source": [
    "Rješavanje koreliranih featurea:"
   ]
  },
  {
   "cell_type": "code",
   "execution_count": 13,
   "metadata": {},
   "outputs": [
    {
     "data": {
      "text/plain": [
       "{'Arrival Delay in Minutes', 'Class_Eco'}"
      ]
     },
     "execution_count": 13,
     "metadata": {},
     "output_type": "execute_result"
    }
   ],
   "source": [
    "correlated_features = set()\n",
    "correlation_matrix = df.drop('satisfaction', axis=1).corr()\n",
    "\n",
    "for i in range(len(correlation_matrix.columns)):\n",
    "    for j in range(i):\n",
    "        if abs(correlation_matrix.iloc[i, j]) > 0.8:\n",
    "            colname = correlation_matrix.columns[i]\n",
    "            correlated_features.add(colname)\n",
    "            \n",
    "correlated_features"
   ]
  },
  {
   "cell_type": "code",
   "execution_count": 14,
   "metadata": {},
   "outputs": [],
   "source": [
    "df.drop(correlated_features, axis=1, inplace=True)"
   ]
  },
  {
   "cell_type": "code",
   "execution_count": 15,
   "metadata": {},
   "outputs": [
    {
     "data": {
      "text/html": [
       "<div>\n",
       "<style scoped>\n",
       "    .dataframe tbody tr th:only-of-type {\n",
       "        vertical-align: middle;\n",
       "    }\n",
       "\n",
       "    .dataframe tbody tr th {\n",
       "        vertical-align: top;\n",
       "    }\n",
       "\n",
       "    .dataframe thead th {\n",
       "        text-align: right;\n",
       "    }\n",
       "</style>\n",
       "<table border=\"1\" class=\"dataframe\">\n",
       "  <thead>\n",
       "    <tr style=\"text-align: right;\">\n",
       "      <th></th>\n",
       "      <th>Gender</th>\n",
       "      <th>Customer Type</th>\n",
       "      <th>Age</th>\n",
       "      <th>Type of Travel</th>\n",
       "      <th>Flight Distance</th>\n",
       "      <th>Inflight wifi service</th>\n",
       "      <th>Departure/Arrival time convenient</th>\n",
       "      <th>Ease of Online booking</th>\n",
       "      <th>Gate location</th>\n",
       "      <th>Food and drink</th>\n",
       "      <th>Online boarding</th>\n",
       "      <th>Seat comfort</th>\n",
       "      <th>Inflight entertainment</th>\n",
       "      <th>On-board service</th>\n",
       "      <th>Leg room service</th>\n",
       "      <th>Baggage handling</th>\n",
       "      <th>Checkin service</th>\n",
       "      <th>Inflight service</th>\n",
       "      <th>Cleanliness</th>\n",
       "      <th>Departure Delay in Minutes</th>\n",
       "      <th>Class_Business</th>\n",
       "      <th>Class_Eco Plus</th>\n",
       "      <th>satisfaction</th>\n",
       "    </tr>\n",
       "  </thead>\n",
       "  <tbody>\n",
       "    <tr>\n",
       "      <th>0</th>\n",
       "      <td>0</td>\n",
       "      <td>0</td>\n",
       "      <td>13</td>\n",
       "      <td>0</td>\n",
       "      <td>460</td>\n",
       "      <td>3</td>\n",
       "      <td>4</td>\n",
       "      <td>3</td>\n",
       "      <td>1</td>\n",
       "      <td>5</td>\n",
       "      <td>3</td>\n",
       "      <td>5</td>\n",
       "      <td>5</td>\n",
       "      <td>4</td>\n",
       "      <td>3</td>\n",
       "      <td>4</td>\n",
       "      <td>4</td>\n",
       "      <td>5</td>\n",
       "      <td>5</td>\n",
       "      <td>25</td>\n",
       "      <td>0</td>\n",
       "      <td>1</td>\n",
       "      <td>0</td>\n",
       "    </tr>\n",
       "    <tr>\n",
       "      <th>1</th>\n",
       "      <td>0</td>\n",
       "      <td>1</td>\n",
       "      <td>25</td>\n",
       "      <td>1</td>\n",
       "      <td>235</td>\n",
       "      <td>3</td>\n",
       "      <td>2</td>\n",
       "      <td>3</td>\n",
       "      <td>3</td>\n",
       "      <td>1</td>\n",
       "      <td>3</td>\n",
       "      <td>1</td>\n",
       "      <td>1</td>\n",
       "      <td>1</td>\n",
       "      <td>5</td>\n",
       "      <td>3</td>\n",
       "      <td>1</td>\n",
       "      <td>4</td>\n",
       "      <td>1</td>\n",
       "      <td>1</td>\n",
       "      <td>1</td>\n",
       "      <td>0</td>\n",
       "      <td>0</td>\n",
       "    </tr>\n",
       "    <tr>\n",
       "      <th>2</th>\n",
       "      <td>1</td>\n",
       "      <td>0</td>\n",
       "      <td>26</td>\n",
       "      <td>1</td>\n",
       "      <td>1142</td>\n",
       "      <td>2</td>\n",
       "      <td>2</td>\n",
       "      <td>2</td>\n",
       "      <td>2</td>\n",
       "      <td>5</td>\n",
       "      <td>5</td>\n",
       "      <td>5</td>\n",
       "      <td>5</td>\n",
       "      <td>4</td>\n",
       "      <td>3</td>\n",
       "      <td>4</td>\n",
       "      <td>4</td>\n",
       "      <td>4</td>\n",
       "      <td>5</td>\n",
       "      <td>0</td>\n",
       "      <td>1</td>\n",
       "      <td>0</td>\n",
       "      <td>1</td>\n",
       "    </tr>\n",
       "    <tr>\n",
       "      <th>3</th>\n",
       "      <td>1</td>\n",
       "      <td>0</td>\n",
       "      <td>25</td>\n",
       "      <td>1</td>\n",
       "      <td>562</td>\n",
       "      <td>2</td>\n",
       "      <td>5</td>\n",
       "      <td>5</td>\n",
       "      <td>5</td>\n",
       "      <td>2</td>\n",
       "      <td>2</td>\n",
       "      <td>2</td>\n",
       "      <td>2</td>\n",
       "      <td>2</td>\n",
       "      <td>5</td>\n",
       "      <td>3</td>\n",
       "      <td>1</td>\n",
       "      <td>4</td>\n",
       "      <td>2</td>\n",
       "      <td>11</td>\n",
       "      <td>1</td>\n",
       "      <td>0</td>\n",
       "      <td>0</td>\n",
       "    </tr>\n",
       "    <tr>\n",
       "      <th>4</th>\n",
       "      <td>0</td>\n",
       "      <td>0</td>\n",
       "      <td>61</td>\n",
       "      <td>1</td>\n",
       "      <td>214</td>\n",
       "      <td>3</td>\n",
       "      <td>3</td>\n",
       "      <td>3</td>\n",
       "      <td>3</td>\n",
       "      <td>4</td>\n",
       "      <td>5</td>\n",
       "      <td>5</td>\n",
       "      <td>3</td>\n",
       "      <td>3</td>\n",
       "      <td>4</td>\n",
       "      <td>4</td>\n",
       "      <td>3</td>\n",
       "      <td>3</td>\n",
       "      <td>3</td>\n",
       "      <td>0</td>\n",
       "      <td>1</td>\n",
       "      <td>0</td>\n",
       "      <td>1</td>\n",
       "    </tr>\n",
       "  </tbody>\n",
       "</table>\n",
       "</div>"
      ],
      "text/plain": [
       "   Gender  Customer Type  Age  Type of Travel  Flight Distance  \\\n",
       "0       0              0   13               0              460   \n",
       "1       0              1   25               1              235   \n",
       "2       1              0   26               1             1142   \n",
       "3       1              0   25               1              562   \n",
       "4       0              0   61               1              214   \n",
       "\n",
       "   Inflight wifi service  Departure/Arrival time convenient  \\\n",
       "0                      3                                  4   \n",
       "1                      3                                  2   \n",
       "2                      2                                  2   \n",
       "3                      2                                  5   \n",
       "4                      3                                  3   \n",
       "\n",
       "   Ease of Online booking  Gate location  Food and drink  Online boarding  \\\n",
       "0                       3              1               5                3   \n",
       "1                       3              3               1                3   \n",
       "2                       2              2               5                5   \n",
       "3                       5              5               2                2   \n",
       "4                       3              3               4                5   \n",
       "\n",
       "   Seat comfort  Inflight entertainment  On-board service  Leg room service  \\\n",
       "0             5                       5                 4                 3   \n",
       "1             1                       1                 1                 5   \n",
       "2             5                       5                 4                 3   \n",
       "3             2                       2                 2                 5   \n",
       "4             5                       3                 3                 4   \n",
       "\n",
       "   Baggage handling  Checkin service  Inflight service  Cleanliness  \\\n",
       "0                 4                4                 5            5   \n",
       "1                 3                1                 4            1   \n",
       "2                 4                4                 4            5   \n",
       "3                 3                1                 4            2   \n",
       "4                 4                3                 3            3   \n",
       "\n",
       "   Departure Delay in Minutes  Class_Business  Class_Eco Plus  satisfaction  \n",
       "0                          25               0               1             0  \n",
       "1                           1               1               0             0  \n",
       "2                           0               1               0             1  \n",
       "3                          11               1               0             0  \n",
       "4                           0               1               0             1  "
      ]
     },
     "execution_count": 15,
     "metadata": {},
     "output_type": "execute_result"
    }
   ],
   "source": [
    "df1 = df.pop('satisfaction')\n",
    "df['satisfaction']=df1\n",
    "df.head()"
   ]
  },
  {
   "cell_type": "markdown",
   "metadata": {},
   "source": [
    "Analizirajmo prvo dataset uz pomoć pojedinačnih histograma za svaku od značajki i za svaki ishod ciljne varijable."
   ]
  },
  {
   "cell_type": "code",
   "execution_count": 16,
   "metadata": {},
   "outputs": [
    {
     "data": {
      "image/png": "[encoded data removed]",
      "text/plain": [
       "<Figure size 720x1440 with 22 Axes>"
      ]
     },
     "metadata": {
      "needs_background": "light"
     },
     "output_type": "display_data"
    }
   ],
   "source": [
    "dissatisfied = df.loc[ df['satisfaction'] == 0, : ]\n",
    "satisfied = df.loc[ df['satisfaction'] == 1, : ]\n",
    "\n",
    "fig, axes = plt.subplots(11, 2, figsize=(10, 20))\n",
    "ax = axes.ravel() # axes are 2-dimensional so we unfold them\n",
    "for i in range(22):\n",
    "    _, bins = np.histogram(df.iloc[:,i], bins=5) # bins 5 ili 50 ovisno koji graf želimo gledat\n",
    "    ax[i].hist(dissatisfied.iloc[:,i], bins=bins, color='r', alpha=.5, label='dissatisfied')\n",
    "    ax[i].hist(satisfied.iloc[:,i], bins=bins, color='b', alpha=.5, label='satisfied')\n",
    "    ax[i].set_title(df.columns.values[i])\n",
    "    ax[i].set_yticks(()) # remove ticks on y-axis\n",
    "    ax[i].legend(loc='upper right')\n",
    "fig.tight_layout()"
   ]
  },
  {
   "cell_type": "markdown",
   "metadata": {},
   "source": [
    "Online boarding i class business se čine kao značajke kod koje su klase (dissatisfied i satisfied) najrazdvojenije."
   ]
  },
  {
   "cell_type": "markdown",
   "metadata": {},
   "source": [
    "Standardizirajmo sve značajke s funkcijom <code>sklearn.preprocessing.StandardScaler</code> koja oduzima srednju vrijednost i standardizira sve značajke tako da imaju jediničnu varijancu. Nakon toga iskoristit ćemo analizu glavnih komponenti (engl. principal component analysis, PCA) da projiciramo naše podatke u novi prostor značajki (komponenti) gdje su one ortogonalne i poredane po količini varijance koju objašnjavaju u originalnim podacima."
   ]
  },
  {
   "cell_type": "code",
   "execution_count": 17,
   "metadata": {},
   "outputs": [],
   "source": [
    "from sklearn.preprocessing import StandardScaler\n",
    "from sklearn.decomposition import PCA"
   ]
  },
  {
   "cell_type": "code",
   "execution_count": 18,
   "metadata": {},
   "outputs": [
    {
     "name": "stdout",
     "output_type": "stream",
     "text": [
      "Dimenzije originalnih podataka: (129487, 22)\n",
      "Dimenzije projiciranih podataka: (129487, 22)\n"
     ]
    }
   ],
   "source": [
    "scaler = StandardScaler()\n",
    "X = df.drop('satisfaction',axis=1)\n",
    "scaler.fit(X)\n",
    "X_scaled = scaler.transform(X)\n",
    "\n",
    "pca = PCA() # use option n_components=2 to calculate just first two principal components\n",
    "pca.fit(X_scaled) # fit PCA model to breast cancer data\n",
    "X_pca = pca.transform(X_scaled) # transform data onto the principal components\n",
    "print(\"Dimenzije originalnih podataka: %s\" % str(X_scaled.shape))\n",
    "print(\"Dimenzije projiciranih podataka: %s\" % str(X_pca.shape))"
   ]
  },
  {
   "cell_type": "code",
   "execution_count": 19,
   "metadata": {},
   "outputs": [
    {
     "data": {
      "text/html": [
       "<div>\n",
       "<style scoped>\n",
       "    .dataframe tbody tr th:only-of-type {\n",
       "        vertical-align: middle;\n",
       "    }\n",
       "\n",
       "    .dataframe tbody tr th {\n",
       "        vertical-align: top;\n",
       "    }\n",
       "\n",
       "    .dataframe thead th {\n",
       "        text-align: right;\n",
       "    }\n",
       "</style>\n",
       "<table border=\"1\" class=\"dataframe\">\n",
       "  <thead>\n",
       "    <tr style=\"text-align: right;\">\n",
       "      <th></th>\n",
       "      <th>PC1</th>\n",
       "      <th>PC2</th>\n",
       "      <th>PC3</th>\n",
       "      <th>PC4</th>\n",
       "      <th>PC5</th>\n",
       "      <th>PC6</th>\n",
       "      <th>PC7</th>\n",
       "      <th>PC8</th>\n",
       "      <th>PC9</th>\n",
       "      <th>PC10</th>\n",
       "      <th>PC11</th>\n",
       "      <th>PC12</th>\n",
       "      <th>PC13</th>\n",
       "      <th>PC14</th>\n",
       "      <th>PC15</th>\n",
       "      <th>PC16</th>\n",
       "      <th>PC17</th>\n",
       "      <th>PC18</th>\n",
       "      <th>PC19</th>\n",
       "      <th>PC20</th>\n",
       "      <th>PC21</th>\n",
       "      <th>PC22</th>\n",
       "    </tr>\n",
       "  </thead>\n",
       "  <tbody>\n",
       "    <tr>\n",
       "      <th>0</th>\n",
       "      <td>-1.189188</td>\n",
       "      <td>0.625753</td>\n",
       "      <td>0.610313</td>\n",
       "      <td>3.909748</td>\n",
       "      <td>0.391552</td>\n",
       "      <td>-0.588160</td>\n",
       "      <td>1.629375</td>\n",
       "      <td>-0.720081</td>\n",
       "      <td>0.664936</td>\n",
       "      <td>2.733001</td>\n",
       "      <td>0.750835</td>\n",
       "      <td>0.658164</td>\n",
       "      <td>-0.363977</td>\n",
       "      <td>0.384712</td>\n",
       "      <td>-0.859685</td>\n",
       "      <td>-0.040936</td>\n",
       "      <td>0.578130</td>\n",
       "      <td>0.126559</td>\n",
       "      <td>0.598589</td>\n",
       "      <td>0.608757</td>\n",
       "      <td>-0.273961</td>\n",
       "      <td>-0.017986</td>\n",
       "    </tr>\n",
       "    <tr>\n",
       "      <th>1</th>\n",
       "      <td>2.973611</td>\n",
       "      <td>-0.678740</td>\n",
       "      <td>-1.756017</td>\n",
       "      <td>-2.274276</td>\n",
       "      <td>2.047526</td>\n",
       "      <td>0.218448</td>\n",
       "      <td>0.684507</td>\n",
       "      <td>-1.319092</td>\n",
       "      <td>0.267474</td>\n",
       "      <td>-0.655173</td>\n",
       "      <td>0.652097</td>\n",
       "      <td>-1.085848</td>\n",
       "      <td>-0.733347</td>\n",
       "      <td>-1.008063</td>\n",
       "      <td>-0.729461</td>\n",
       "      <td>0.438003</td>\n",
       "      <td>0.816017</td>\n",
       "      <td>-0.718581</td>\n",
       "      <td>-0.129066</td>\n",
       "      <td>0.762896</td>\n",
       "      <td>0.689193</td>\n",
       "      <td>-0.157250</td>\n",
       "    </tr>\n",
       "    <tr>\n",
       "      <th>2</th>\n",
       "      <td>-2.417703</td>\n",
       "      <td>1.843516</td>\n",
       "      <td>1.079428</td>\n",
       "      <td>-0.038354</td>\n",
       "      <td>0.465028</td>\n",
       "      <td>-0.712269</td>\n",
       "      <td>-0.817764</td>\n",
       "      <td>0.512723</td>\n",
       "      <td>-0.123895</td>\n",
       "      <td>0.450653</td>\n",
       "      <td>0.630814</td>\n",
       "      <td>0.494454</td>\n",
       "      <td>-1.051004</td>\n",
       "      <td>0.013752</td>\n",
       "      <td>-0.028666</td>\n",
       "      <td>-0.215346</td>\n",
       "      <td>-0.030774</td>\n",
       "      <td>-0.270836</td>\n",
       "      <td>-0.284605</td>\n",
       "      <td>-0.209608</td>\n",
       "      <td>-0.143243</td>\n",
       "      <td>-0.078286</td>\n",
       "    </tr>\n",
       "    <tr>\n",
       "      <th>3</th>\n",
       "      <td>1.453396</td>\n",
       "      <td>-2.236604</td>\n",
       "      <td>-1.008766</td>\n",
       "      <td>-1.206407</td>\n",
       "      <td>0.527614</td>\n",
       "      <td>0.659674</td>\n",
       "      <td>0.028555</td>\n",
       "      <td>0.295005</td>\n",
       "      <td>-2.222198</td>\n",
       "      <td>-0.263101</td>\n",
       "      <td>0.262105</td>\n",
       "      <td>-1.267782</td>\n",
       "      <td>-1.724321</td>\n",
       "      <td>-0.425282</td>\n",
       "      <td>-0.819671</td>\n",
       "      <td>-0.231674</td>\n",
       "      <td>0.724045</td>\n",
       "      <td>-0.209683</td>\n",
       "      <td>-0.118825</td>\n",
       "      <td>0.344931</td>\n",
       "      <td>-0.852342</td>\n",
       "      <td>0.149880</td>\n",
       "    </tr>\n",
       "    <tr>\n",
       "      <th>4</th>\n",
       "      <td>-1.145437</td>\n",
       "      <td>-0.229835</td>\n",
       "      <td>0.895914</td>\n",
       "      <td>-0.879725</td>\n",
       "      <td>-0.579708</td>\n",
       "      <td>-0.148990</td>\n",
       "      <td>0.395959</td>\n",
       "      <td>-1.094260</td>\n",
       "      <td>0.912853</td>\n",
       "      <td>-1.141641</td>\n",
       "      <td>-0.645642</td>\n",
       "      <td>-0.282364</td>\n",
       "      <td>-1.159272</td>\n",
       "      <td>-0.490669</td>\n",
       "      <td>-0.440770</td>\n",
       "      <td>0.180540</td>\n",
       "      <td>-0.557901</td>\n",
       "      <td>-0.719222</td>\n",
       "      <td>0.603839</td>\n",
       "      <td>-0.238121</td>\n",
       "      <td>0.150071</td>\n",
       "      <td>0.214706</td>\n",
       "    </tr>\n",
       "  </tbody>\n",
       "</table>\n",
       "</div>"
      ],
      "text/plain": [
       "        PC1       PC2       PC3       PC4       PC5       PC6       PC7  \\\n",
       "0 -1.189188  0.625753  0.610313  3.909748  0.391552 -0.588160  1.629375   \n",
       "1  2.973611 -0.678740 -1.756017 -2.274276  2.047526  0.218448  0.684507   \n",
       "2 -2.417703  1.843516  1.079428 -0.038354  0.465028 -0.712269 -0.817764   \n",
       "3  1.453396 -2.236604 -1.008766 -1.206407  0.527614  0.659674  0.028555   \n",
       "4 -1.145437 -0.229835  0.895914 -0.879725 -0.579708 -0.148990  0.395959   \n",
       "\n",
       "        PC8       PC9      PC10      PC11      PC12      PC13      PC14  \\\n",
       "0 -0.720081  0.664936  2.733001  0.750835  0.658164 -0.363977  0.384712   \n",
       "1 -1.319092  0.267474 -0.655173  0.652097 -1.085848 -0.733347 -1.008063   \n",
       "2  0.512723 -0.123895  0.450653  0.630814  0.494454 -1.051004  0.013752   \n",
       "3  0.295005 -2.222198 -0.263101  0.262105 -1.267782 -1.724321 -0.425282   \n",
       "4 -1.094260  0.912853 -1.141641 -0.645642 -0.282364 -1.159272 -0.490669   \n",
       "\n",
       "       PC15      PC16      PC17      PC18      PC19      PC20      PC21  \\\n",
       "0 -0.859685 -0.040936  0.578130  0.126559  0.598589  0.608757 -0.273961   \n",
       "1 -0.729461  0.438003  0.816017 -0.718581 -0.129066  0.762896  0.689193   \n",
       "2 -0.028666 -0.215346 -0.030774 -0.270836 -0.284605 -0.209608 -0.143243   \n",
       "3 -0.819671 -0.231674  0.724045 -0.209683 -0.118825  0.344931 -0.852342   \n",
       "4 -0.440770  0.180540 -0.557901 -0.719222  0.603839 -0.238121  0.150071   \n",
       "\n",
       "       PC22  \n",
       "0 -0.017986  \n",
       "1 -0.157250  \n",
       "2 -0.078286  \n",
       "3  0.149880  \n",
       "4  0.214706  "
      ]
     },
     "execution_count": 19,
     "metadata": {},
     "output_type": "execute_result"
    }
   ],
   "source": [
    "df_pca = pd.DataFrame(X_pca, columns=['PC'+str(i) for i in range(1,X_pca.shape[1]+1)])\n",
    "df_pca.head()"
   ]
  },
  {
   "cell_type": "markdown",
   "metadata": {},
   "source": [
    "Možemo prikazati varijancu objašnjenu sa svakom od glavnih komponenti, kao i kumulativnu varijancu objašnjenu uključivanjem svake naredne glavne komponente u našem projiciranom datasetu."
   ]
  },
  {
   "cell_type": "code",
   "execution_count": 20,
   "metadata": {},
   "outputs": [
    {
     "data": {
      "image/png": "[encoded data removed]",
      "text/plain": [
       "<Figure size 504x360 with 1 Axes>"
      ]
     },
     "metadata": {
      "needs_background": "light"
     },
     "output_type": "display_data"
    }
   ],
   "source": [
    "plt.figure(figsize=(7,5))\n",
    "\n",
    "explained_variance_ratio = pca.explained_variance_ratio_\n",
    "explained_variance_ratio_cummulative = np.cumsum(pca.explained_variance_ratio_)\n",
    "\n",
    "plt.plot(range(1,X_pca.shape[1]+1), explained_variance_ratio, '-o', label='individualne komponente', c='b')\n",
    "plt.plot(range(1,X_pca.shape[1]+1), explained_variance_ratio_cummulative, '-s', label='kumulativno', c='r')\n",
    "\n",
    "plt.ylabel('udio objasnjene varijance')\n",
    "plt.xlabel('glavna komponenta')\n",
    "plt.xlim(0.75,X_pca.shape[1]+1.25)\n",
    "plt.ylim(0,1.05)\n",
    "plt.xticks(range(1,X_pca.shape[1]+1))\n",
    "plt.legend(loc='center right')\n",
    "plt.show()"
   ]
  },
  {
   "cell_type": "markdown",
   "metadata": {},
   "source": [
    "Prema gornjem rezultatu naslućujemo da nećemo moći značajno reducirati broj značajki."
   ]
  },
  {
   "cell_type": "markdown",
   "metadata": {},
   "source": [
    "## Odabir značajki - pokušaj"
   ]
  },
  {
   "cell_type": "markdown",
   "metadata": {},
   "source": [
    "### Rekurzivna eliminacija značajki s unakrsnom validacijom - Random Forest"
   ]
  },
  {
   "cell_type": "code",
   "execution_count": null,
   "metadata": {},
   "outputs": [],
   "source": [
    "train, test = train_test_split(df, test_size=0.20, random_state=42)\n",
    "X_train = train.drop('satisfaction',axis=1)\n",
    "y_train = train['satisfaction']\n",
    "\n",
    "rfecv = RFECV(RandomForestClassifier(n_estimators=100,random_state=0,n_jobs=-1), \n",
    "                 step=1, \n",
    "                 cv=StratifiedKFold(n_splits=2),\n",
    "                 scoring='accuracy')\n",
    "rfecv.fit(X_train, y_train);"
   ]
  },
  {
   "cell_type": "code",
   "execution_count": null,
   "metadata": {},
   "outputs": [],
   "source": [
    "print('Optimalni broj featurea: {}'.format(rfecv.n_features_))"
   ]
  },
  {
   "cell_type": "code",
   "execution_count": null,
   "metadata": {},
   "outputs": [],
   "source": [
    "plt.figure(figsize=(7,5))\n",
    "\n",
    "plt.plot(range(1, len(rfecv.grid_scores_) + 1), rfecv.grid_scores_, '-o',color='gray')\n",
    "plt.xlabel('Broj odabranih znacajki')\n",
    "plt.ylabel('tocnost na unakrsnoj validaciji')\n",
    "plt.title('Rekurzivna eliminacija znacajki s unakrsnom validacijom')\n",
    "plt.vlines(rfecv.n_features_, \n",
    "           np.min(rfecv.grid_scores_), \n",
    "           rfecv.grid_scores_[rfecv.n_features_-1], \n",
    "           color='red', linestyle='--')\n",
    "plt.show()"
   ]
  },
  {
   "cell_type": "code",
   "execution_count": null,
   "metadata": {},
   "outputs": [],
   "source": [
    "print(\"Stupci za izbaciti: \", X_train.columns[np.where(rfecv.support_ == False)[0]])"
   ]
  },
  {
   "cell_type": "code",
   "execution_count": null,
   "metadata": {},
   "outputs": [],
   "source": [
    "X_train.drop(X_train.columns[np.where(rfecv.support_ == False)[0]], axis=1, inplace=True)"
   ]
  },
  {
   "cell_type": "markdown",
   "metadata": {},
   "source": [
    "Pokušajmo sada vizualizirati važnost preostalih featurea:"
   ]
  },
  {
   "cell_type": "code",
   "execution_count": null,
   "metadata": {},
   "outputs": [],
   "source": [
    "dset = pd.DataFrame()\n",
    "dset['attr'] = X_train.columns\n",
    "dset['importance'] = rfecv.estimator_.feature_importances_\n",
    "\n",
    "dset = dset.sort_values(by='importance', ascending=False)\n",
    "\n",
    "\n",
    "plt.figure(figsize=(8, 7))\n",
    "plt.barh(y=dset['attr'], width=dset['importance'], color='#1976D2')\n",
    "plt.title('RFECV - Važnost featurea', fontsize=20, fontweight='bold', pad=20)\n",
    "plt.xlabel('Važnost', fontsize=14, labelpad=20)\n",
    "plt.show()"
   ]
  },
  {
   "cell_type": "markdown",
   "metadata": {},
   "source": [
    "Kao što vidimo, posljednja četri featurea imaju znatno veću važnost od ostalih, tako da model možemo pokušati konstruirati samo i sa ova četri stupca te vidjeti koliku točnost dobivamo. "
   ]
  },
  {
   "cell_type": "markdown",
   "metadata": {},
   "source": [
    "### Chi2"
   ]
  },
  {
   "cell_type": "code",
   "execution_count": null,
   "metadata": {},
   "outputs": [],
   "source": [
    "from sklearn.feature_selection import SelectKBest\n",
    "from sklearn.feature_selection import chi2\n",
    "\n",
    "train, test = train_test_split(df, test_size=0.20, random_state=42)\n",
    "\n",
    "X_train = train.drop(['satisfaction', 'Age', 'Flight Distance', 'Departure Delay in Minutes'],axis=1)\n",
    "y_train = train['satisfaction']\n",
    "\n",
    "bestfeatures = SelectKBest(score_func=chi2, k=10)\n",
    "fit = bestfeatures.fit(X_train,y_train)\n",
    "dfscores = pd.DataFrame(fit.scores_)\n",
    "dfcolumns = pd.DataFrame(X_train.columns)\n",
    "\n",
    "featureScores = pd.concat([dfcolumns,dfscores],axis=1)\n",
    "featureScores.columns = ['Specs','Score']  \n",
    "print(featureScores.nlargest(10,'Score'))\n",
    "\n",
    "plt.figure(figsize=(8, 7))\n",
    "plt.barh(y=featureScores.nlargest(10,'Score')['Specs'], width=featureScores.nlargest(10,'Score')['Score'], color='red')\n",
    "plt.xlabel('Score', fontsize=14, labelpad=20)\n",
    "plt.show()"
   ]
  },
  {
   "cell_type": "markdown",
   "metadata": {},
   "source": [
    "### Heatmap"
   ]
  },
  {
   "cell_type": "code",
   "execution_count": null,
   "metadata": {},
   "outputs": [],
   "source": [
    "corrmat = df.corr()\n",
    "top_corr_features = corrmat.index\n",
    "plt.figure(figsize=(20,20))\n",
    "\n",
    "g=sns.heatmap(df[top_corr_features].corr(),annot=True,cmap=\"RdYlGn\")"
   ]
  },
  {
   "cell_type": "markdown",
   "metadata": {},
   "source": [
    "Iz heatmapa vidimo da je zadovoljstvo visoko korelirano s vrstom putovanja, online boardingom i s time radi li se o business klasi, dok je najslabije korelirana s vrstom putnika."
   ]
  },
  {
   "cell_type": "markdown",
   "metadata": {},
   "source": [
    "### Extra Trees Classifier"
   ]
  },
  {
   "cell_type": "code",
   "execution_count": null,
   "metadata": {},
   "outputs": [],
   "source": [
    "from sklearn.ensemble import ExtraTreesClassifier\n",
    "\n",
    "train, test = train_test_split(df, test_size=0.20, random_state=42)\n",
    "X_train = train.drop('satisfaction',axis=1)\n",
    "y_train = train['satisfaction']\n",
    "\n",
    "model = ExtraTreesClassifier()\n",
    "model.fit(X_train,y_train)\n",
    "\n",
    "feat_importances = pd.Series(model.feature_importances_, index=X_train.columns)\n",
    "feat_importances.nlargest(10).plot(kind='barh')\n",
    "plt.show()"
   ]
  },
  {
   "cell_type": "markdown",
   "metadata": {},
   "source": [
    "### Logistic Regression"
   ]
  },
  {
   "cell_type": "code",
   "execution_count": null,
   "metadata": {},
   "outputs": [],
   "source": [
    "from sklearn.linear_model import LogisticRegression\n",
    "\n",
    "train, test = train_test_split(df, test_size=0.20, random_state=42)\n",
    "X_train = train.drop('satisfaction',axis=1)\n",
    "y_train = train['satisfaction']\n",
    "\n",
    "rfecv_lr = RFECV(LogisticRegression(solver='liblinear'), \n",
    "                 step=1, \n",
    "                 cv=StratifiedKFold(n_splits=2),\n",
    "                 scoring='accuracy')\n",
    "rfecv_lr.fit(X_train, y_train);"
   ]
  },
  {
   "cell_type": "code",
   "execution_count": null,
   "metadata": {},
   "outputs": [],
   "source": [
    "fig, ax = plt.subplots(1, figsize=(15, 5))\n",
    "\n",
    "ax.plot(range(1, len(rfecv_lr.grid_scores_) + 1), rfecv_lr.grid_scores_, '-o', color='gray')\n",
    "ax.set(xlabel='Broj odabranih znacajki',ylabel='tocnost na unakrsnoj validaciji',title='logisticka regresija')\n",
    "ax.vlines(rfecv_lr.n_features_, \n",
    "             np.min(rfecv_lr.grid_scores_), \n",
    "             rfecv_lr.grid_scores_[rfecv_lr.n_features_-1], \n",
    "             color='red', linestyle='--')\n",
    "\n",
    "plt.show()"
   ]
  },
  {
   "cell_type": "code",
   "execution_count": null,
   "metadata": {},
   "outputs": [],
   "source": [
    "print(\"Stupci za izbaciti: \", X_train.columns[np.where(rfecv_lr.support_ == False)[0]])"
   ]
  },
  {
   "cell_type": "markdown",
   "metadata": {},
   "source": [
    "### Mutual Information"
   ]
  },
  {
   "cell_type": "code",
   "execution_count": null,
   "metadata": {},
   "outputs": [],
   "source": [
    "from sklearn.feature_selection import mutual_info_classif\n",
    "\n",
    "train, test = train_test_split(df, test_size=0.20, random_state=42)\n",
    "X_train = train.drop('satisfaction',axis=1)\n",
    "y_train = train['satisfaction']\n",
    "\n",
    "info = mutual_info_classif(X_train, y_train, discrete_features=True)\n",
    "dfscores = pd.DataFrame(info)\n",
    "dfcolumns = pd.DataFrame(X_train.columns)\n",
    "\n",
    "fs = pd.concat([dfcolumns,dfscores],axis=1)\n",
    "fs.columns = ['Specs','Score']  \n",
    "print(fs.nlargest(10,'Score'))"
   ]
  },
  {
   "cell_type": "code",
   "execution_count": null,
   "metadata": {},
   "outputs": [],
   "source": [
    "plt.figure(figsize=(4, 4))\n",
    "plt.barh(y=featureScores.nlargest(10,'Score')['Specs'], width=featureScores.nlargest(10,'Score')['Score'], color='red')\n",
    "plt.xlabel('Score', fontsize=14, labelpad=20)\n",
    "plt.show()"
   ]
  }
 ],
 "metadata": {
  "kernelspec": {
   "display_name": "Python 3",
   "language": "python",
   "name": "python3"
  },
  "language_info": {
   "codemirror_mode": {
    "name": "ipython",
    "version": 3
   },
   "file_extension": ".py",
   "mimetype": "text/x-python",
   "name": "python",
   "nbconvert_exporter": "python",
   "pygments_lexer": "ipython3",
   "version": "3.7.7"
  }
 },
 "nbformat": 4,
 "nbformat_minor": 4
}
